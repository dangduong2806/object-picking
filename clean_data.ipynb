{
 "cells": [
  {
   "cell_type": "code",
   "execution_count": 5,
   "id": "91139f37",
   "metadata": {},
   "outputs": [
    {
     "name": "stdout",
     "output_type": "stream",
     "text": [
      "Requirement already satisfied: ultralytics in c:\\users\\admin\\anaconda3\\envs\\current_python\\lib\\site-packages (8.3.205)\n",
      "Requirement already satisfied: opencv-python in c:\\users\\admin\\anaconda3\\envs\\current_python\\lib\\site-packages (4.12.0.88)\n",
      "Requirement already satisfied: numpy in c:\\users\\admin\\anaconda3\\envs\\current_python\\lib\\site-packages (2.2.6)\n",
      "Requirement already satisfied: matplotlib>=3.3.0 in c:\\users\\admin\\anaconda3\\envs\\current_python\\lib\\site-packages (from ultralytics) (3.10.6)\n",
      "Requirement already satisfied: pillow>=7.1.2 in c:\\users\\admin\\anaconda3\\envs\\current_python\\lib\\site-packages (from ultralytics) (11.3.0)\n",
      "Requirement already satisfied: pyyaml>=5.3.1 in c:\\users\\admin\\anaconda3\\envs\\current_python\\lib\\site-packages (from ultralytics) (6.0.3)\n",
      "Requirement already satisfied: requests>=2.23.0 in c:\\users\\admin\\anaconda3\\envs\\current_python\\lib\\site-packages (from ultralytics) (2.32.5)\n",
      "Requirement already satisfied: scipy>=1.4.1 in c:\\users\\admin\\anaconda3\\envs\\current_python\\lib\\site-packages (from ultralytics) (1.16.2)\n",
      "Requirement already satisfied: torch>=1.8.0 in c:\\users\\admin\\anaconda3\\envs\\current_python\\lib\\site-packages (from ultralytics) (2.5.1+cu121)\n",
      "Requirement already satisfied: torchvision>=0.9.0 in c:\\users\\admin\\anaconda3\\envs\\current_python\\lib\\site-packages (from ultralytics) (0.20.1+cu121)\n",
      "Requirement already satisfied: psutil in c:\\users\\admin\\anaconda3\\envs\\current_python\\lib\\site-packages (from ultralytics) (7.0.0)\n",
      "Requirement already satisfied: polars in c:\\users\\admin\\anaconda3\\envs\\current_python\\lib\\site-packages (from ultralytics) (1.34.0)\n",
      "Requirement already satisfied: ultralytics-thop>=2.0.0 in c:\\users\\admin\\anaconda3\\envs\\current_python\\lib\\site-packages (from ultralytics) (2.0.17)\n",
      "Requirement already satisfied: contourpy>=1.0.1 in c:\\users\\admin\\anaconda3\\envs\\current_python\\lib\\site-packages (from matplotlib>=3.3.0->ultralytics) (1.3.3)\n",
      "Requirement already satisfied: cycler>=0.10 in c:\\users\\admin\\anaconda3\\envs\\current_python\\lib\\site-packages (from matplotlib>=3.3.0->ultralytics) (0.12.1)\n",
      "Requirement already satisfied: fonttools>=4.22.0 in c:\\users\\admin\\anaconda3\\envs\\current_python\\lib\\site-packages (from matplotlib>=3.3.0->ultralytics) (4.60.1)\n",
      "Requirement already satisfied: kiwisolver>=1.3.1 in c:\\users\\admin\\anaconda3\\envs\\current_python\\lib\\site-packages (from matplotlib>=3.3.0->ultralytics) (1.4.9)\n",
      "Requirement already satisfied: packaging>=20.0 in c:\\users\\admin\\anaconda3\\envs\\current_python\\lib\\site-packages (from matplotlib>=3.3.0->ultralytics) (25.0)\n",
      "Requirement already satisfied: pyparsing>=2.3.1 in c:\\users\\admin\\anaconda3\\envs\\current_python\\lib\\site-packages (from matplotlib>=3.3.0->ultralytics) (3.2.5)\n",
      "Requirement already satisfied: python-dateutil>=2.7 in c:\\users\\admin\\anaconda3\\envs\\current_python\\lib\\site-packages (from matplotlib>=3.3.0->ultralytics) (2.9.0.post0)\n",
      "Requirement already satisfied: six>=1.5 in c:\\users\\admin\\anaconda3\\envs\\current_python\\lib\\site-packages (from python-dateutil>=2.7->matplotlib>=3.3.0->ultralytics) (1.17.0)\n",
      "Requirement already satisfied: charset_normalizer<4,>=2 in c:\\users\\admin\\anaconda3\\envs\\current_python\\lib\\site-packages (from requests>=2.23.0->ultralytics) (3.4.3)\n",
      "Requirement already satisfied: idna<4,>=2.5 in c:\\users\\admin\\anaconda3\\envs\\current_python\\lib\\site-packages (from requests>=2.23.0->ultralytics) (3.10)\n",
      "Requirement already satisfied: urllib3<3,>=1.21.1 in c:\\users\\admin\\anaconda3\\envs\\current_python\\lib\\site-packages (from requests>=2.23.0->ultralytics) (2.5.0)\n",
      "Requirement already satisfied: certifi>=2017.4.17 in c:\\users\\admin\\anaconda3\\envs\\current_python\\lib\\site-packages (from requests>=2.23.0->ultralytics) (2025.10.5)\n",
      "Requirement already satisfied: filelock in c:\\users\\admin\\anaconda3\\envs\\current_python\\lib\\site-packages (from torch>=1.8.0->ultralytics) (3.19.1)\n",
      "Requirement already satisfied: typing-extensions>=4.8.0 in c:\\users\\admin\\anaconda3\\envs\\current_python\\lib\\site-packages (from torch>=1.8.0->ultralytics) (4.15.0)\n",
      "Requirement already satisfied: networkx in c:\\users\\admin\\anaconda3\\envs\\current_python\\lib\\site-packages (from torch>=1.8.0->ultralytics) (3.5)\n",
      "Requirement already satisfied: jinja2 in c:\\users\\admin\\anaconda3\\envs\\current_python\\lib\\site-packages (from torch>=1.8.0->ultralytics) (3.1.6)\n",
      "Requirement already satisfied: fsspec in c:\\users\\admin\\anaconda3\\envs\\current_python\\lib\\site-packages (from torch>=1.8.0->ultralytics) (2025.9.0)\n",
      "Requirement already satisfied: setuptools in c:\\users\\admin\\anaconda3\\envs\\current_python\\lib\\site-packages (from torch>=1.8.0->ultralytics) (78.1.1)\n",
      "Requirement already satisfied: sympy==1.13.1 in c:\\users\\admin\\anaconda3\\envs\\current_python\\lib\\site-packages (from torch>=1.8.0->ultralytics) (1.13.1)\n",
      "Requirement already satisfied: mpmath<1.4,>=1.1.0 in c:\\users\\admin\\anaconda3\\envs\\current_python\\lib\\site-packages (from sympy==1.13.1->torch>=1.8.0->ultralytics) (1.3.0)\n",
      "Requirement already satisfied: MarkupSafe>=2.0 in c:\\users\\admin\\anaconda3\\envs\\current_python\\lib\\site-packages (from jinja2->torch>=1.8.0->ultralytics) (3.0.3)\n",
      "Requirement already satisfied: polars-runtime-32==1.34.0 in c:\\users\\admin\\anaconda3\\envs\\current_python\\lib\\site-packages (from polars->ultralytics) (1.34.0)\n"
     ]
    }
   ],
   "source": [
    "import sys\n",
    "!{sys.executable} -m pip install ultralytics opencv-python numpy\n"
   ]
  },
  {
   "cell_type": "markdown",
   "id": "a6beecde",
   "metadata": {},
   "source": [
    "## Import thư viện"
   ]
  },
  {
   "cell_type": "code",
   "execution_count": 6,
   "id": "6d36dc98",
   "metadata": {},
   "outputs": [],
   "source": [
    "from ultralytics import YOLO\n",
    "import cv2\n",
    "import numpy as np\n",
    "import os\n",
    "from functools import cmp_to_key"
   ]
  },
  {
   "cell_type": "markdown",
   "id": "1bd60efd",
   "metadata": {},
   "source": [
    "## Các đường dẫn và hệ số"
   ]
  },
  {
   "cell_type": "code",
   "execution_count": 7,
   "id": "54836f9d",
   "metadata": {},
   "outputs": [],
   "source": [
    "\n",
    "MODEL_PATH = \"./best.pt\"\n",
    "RGB_DIR = \"./Public_data_task_3/Public_data/Public_data_train/rgb\"\n",
    "DEPTH_DIR = \"./Public_data_task_3/Public_data/Public_data_train/depth\"\n",
    "\n",
    "VISUALIZATION_SAVE_DIR = \"./Public_data_task_3/Public_data/Public_data_train/topmost_simplified_visualization\"\n",
    "CROP_SAVE_DIR = \"./Public_data_task_3/Public_data/Public_data_train/topmost_simplified_cropped_outputs\"\n",
    "os.makedirs(VISUALIZATION_SAVE_DIR, exist_ok=True)\n",
    "os.makedirs(CROP_SAVE_DIR, exist_ok=True)\n",
    "\n",
    "\n",
    "DEPTH_SCALE = 0.001 # Hệ số chuyển đổi giá trị depth sang mét\n",
    "\n",
    "# Cấu hình logic xử lý và lựa chọn\n",
    "FIXED_ROI_XYWH = (560, 150, 300, 330) # Tọa độ và kích thước của \"Vùng Quan Tâm\" (Region of Interest) cố định. Chỉ các bưu kiện có tâm nằm trong vùng này mới được xét.\n",
    "HEIGHT_TOLERANCE_METERS = 0.005 # Ngưỡng chênh lệch chiều cao (5mm). Nếu hai bưu kiện chênh nhau ít hơn giá trị này, chúng được coi là cao bằng nhau.\n",
    "MIN_MASK_PIXEL = 500 # Diện tích tối thiểu (tính bằng pixel) để một đối tượng được coi là một bưu kiện hợp lệ, giúp loại bỏ nhiễu.\n",
    "\n"
   ]
  },
  {
   "cell_type": "markdown",
   "id": "6d119ac2",
   "metadata": {},
   "source": [
    "## Các hàm càn dùng"
   ]
  },
  {
   "cell_type": "markdown",
   "id": "11caab52",
   "metadata": {},
   "source": [
    "### Hàm kiểm tra tâm (cx, cy) của kiện hàng có nằm trong vùng hợp lệ không"
   ]
  },
  {
   "cell_type": "code",
   "execution_count": 8,
   "id": "f2753d5f",
   "metadata": {},
   "outputs": [],
   "source": [
    "def is_center_in_roi(bbox_center, roi_xywh):\n",
    "    cx, cy = bbox_center\n",
    "    x, y, w, h = roi_xywh\n",
    "    return (x <= cx < x + w) and (y <= cy < y + h)\n"
   ]
  },
  {
   "cell_type": "markdown",
   "id": "bf34cf72",
   "metadata": {},
   "source": [
    "### Hàm lấy giá trị depth và đổi nó sang mét"
   ]
  },
  {
   "cell_type": "code",
   "execution_count": 9,
   "id": "39967b0c",
   "metadata": {},
   "outputs": [],
   "source": [
    "# Chỉ lấy giá trị pixel tại một điểm trên ảnh depth, kiểm tra xem nó có hợp lệ không (khác 0) và đổi giá trị đó ra mét bằng cách nhân với DEPTH_SCALE.\n",
    "def get_depth_in_meters(cx, cy, depth_map, depth_scale):\n",
    "    if cx < 0 or cy < 0 or cy >= depth_map.shape[0] or cx >= depth_map.shape[1]:\n",
    "        return None\n",
    "    z_val = depth_map[int(cy), int(cx)]\n",
    "    if z_val == 0:\n",
    "        return None\n",
    "    return z_val * depth_scale"
   ]
  },
  {
   "cell_type": "markdown",
   "id": "180c51fc",
   "metadata": {},
   "source": [
    "### Hàm load các ảnh đầu vào"
   ]
  },
  {
   "cell_type": "code",
   "execution_count": 10,
   "id": "68cb4459",
   "metadata": {},
   "outputs": [],
   "source": [
    "def load_rgb_depth(rgb_path, depth_path):\n",
    "    rgb = cv2.imread(rgb_path)\n",
    "    depth = cv2.imread(depth_path, cv2.IMREAD_UNCHANGED)\n",
    "    if rgb is None: raise FileNotFoundError(f\"RGB image not found: {rgb_path}\")\n",
    "    if depth is None: raise FileNotFoundError(f\"Depth image not found: {depth_path}\")\n",
    "    if len(depth.shape) == 3: depth = depth[:, :, 0]\n",
    "    return rgb, depth\n"
   ]
  },
  {
   "cell_type": "markdown",
   "id": "1b356812",
   "metadata": {},
   "source": [
    "### Hàm resize mask theo hình dạng của ảnh gốc"
   ]
  },
  {
   "cell_type": "code",
   "execution_count": 11,
   "id": "92e129d4",
   "metadata": {},
   "outputs": [],
   "source": [
    "# resize mask theo hình dạng của ảnh gốc(do YOLO lúc nhận diện đã tự resize ảnh) \n",
    "def mask_resize_to_image(mask, target_shape):\n",
    "    target_h, target_w = target_shape[0], target_shape[1]\n",
    "    resized = cv2.resize(mask.astype(np.float32), (target_w, target_h), interpolation=cv2.INTER_NEAREST)\n",
    "    return (resized > 0.5).astype(np.uint8)"
   ]
  },
  {
   "cell_type": "markdown",
   "id": "f7d91190",
   "metadata": {},
   "source": [
    "### Hàm tìm bounding box từ mask"
   ]
  },
  {
   "cell_type": "code",
   "execution_count": 12,
   "id": "fb48f7fd",
   "metadata": {},
   "outputs": [],
   "source": [
    "def bbox_from_mask(mask):\n",
    "    cnts, _ = cv2.findContours(mask.astype(np.uint8), cv2.RETR_EXTERNAL, cv2.CHAIN_APPROX_SIMPLE)\n",
    "    if not cnts: return None\n",
    "    c = max(cnts, key=cv2.contourArea)\n",
    "    x, y, w, h = cv2.boundingRect(c)\n",
    "    return (x, y, w, h) if w > 0 and h > 0 else None"
   ]
  },
  {
   "cell_type": "markdown",
   "id": "e9740ee9",
   "metadata": {},
   "source": [
    "### Hàm tìm tâm của mask"
   ]
  },
  {
   "cell_type": "code",
   "execution_count": 13,
   "id": "6ec0738c",
   "metadata": {},
   "outputs": [],
   "source": [
    "# Tính toán tâm của bounding box\n",
    "def center_of_bbox(bbox):\n",
    "    x, y, w, h = bbox\n",
    "    return (x + w / 2.0, y + h / 2.0)"
   ]
  },
  {
   "cell_type": "markdown",
   "id": "71df1277",
   "metadata": {},
   "source": [
    "### Hàm so sánh độ sâu hoặc xa robot giữa 2 bưu kiện"
   ]
  },
  {
   "cell_type": "code",
   "execution_count": 14,
   "id": "f7dc14bb",
   "metadata": {},
   "outputs": [],
   "source": [
    "# So sánh để chọn bưu kiện\n",
    "def compare_parcels_simplified(p1, p2):\n",
    "    z1, z2 = p1['depth_meters'], p2['depth_meters']\n",
    "    if abs(z1 - z2) > HEIGHT_TOLERANCE_METERS:\n",
    "        return -1 if z1 < z2 else 1\n",
    "    cy1, cy2 = p1['center'][1], p2['center'][1]\n",
    "    return -1 if cy1 > cy2 else 1"
   ]
  },
  {
   "cell_type": "markdown",
   "id": "69abdb01",
   "metadata": {},
   "source": [
    "## Tải mô hình"
   ]
  },
  {
   "cell_type": "code",
   "execution_count": 15,
   "id": "b23e2510",
   "metadata": {},
   "outputs": [
    {
     "name": "stdout",
     "output_type": "stream",
     "text": [
      "Loading YOLO model...\n"
     ]
    },
    {
     "name": "stdout",
     "output_type": "stream",
     "text": [
      "Model loaded successfully.\n"
     ]
    }
   ],
   "source": [
    "print(\"Loading YOLO model...\")\n",
    "model = YOLO(MODEL_PATH)\n",
    "print(\"Model loaded successfully.\")"
   ]
  },
  {
   "cell_type": "markdown",
   "id": "5f182bd8",
   "metadata": {},
   "source": [
    "## Vòng lặp chạy chính"
   ]
  },
  {
   "cell_type": "code",
   "execution_count": 16,
   "id": "5ced5572",
   "metadata": {},
   "outputs": [
    {
     "name": "stdout",
     "output_type": "stream",
     "text": [
      "Processed 0000.png -> Selected Parcel Center:(616.0,386.5), Depth: Z=1.0640 meters\n",
      " -> Saved cropped outputs for 0000 to ./Public_data_task_3/Public_data/Public_data_train/topmost_simplified_cropped_outputs\n",
      "Processed 0001.png -> Selected Parcel Center:(620.0,386.5), Depth: Z=1.0640 meters\n",
      " -> Saved cropped outputs for 0001 to ./Public_data_task_3/Public_data/Public_data_train/topmost_simplified_cropped_outputs\n",
      "Processed 0002.png -> Selected Parcel Center:(596.0,285.5), Depth: Z=1.0500 meters\n",
      " -> Saved cropped outputs for 0002 to ./Public_data_task_3/Public_data/Public_data_train/topmost_simplified_cropped_outputs\n",
      "No parcels found inside the ROI for 0003.png\n",
      "No parcels found inside the ROI for 0004.png\n",
      "Processed 0005.png -> Selected Parcel Center:(628.0,368.0), Depth: Z=1.0600 meters\n",
      " -> Saved cropped outputs for 0005 to ./Public_data_task_3/Public_data/Public_data_train/topmost_simplified_cropped_outputs\n",
      "Processed 0006.png -> Selected Parcel Center:(628.0,350.0), Depth: Z=1.0330 meters\n",
      " -> Saved cropped outputs for 0006 to ./Public_data_task_3/Public_data/Public_data_train/topmost_simplified_cropped_outputs\n",
      "Processed 0007.png -> Selected Parcel Center:(584.0,279.5), Depth: Z=1.0420 meters\n",
      " -> Saved cropped outputs for 0007 to ./Public_data_task_3/Public_data/Public_data_train/topmost_simplified_cropped_outputs\n",
      "No parcels found inside the ROI for 0008.png\n",
      "No parcels found inside the ROI for 0009.png\n",
      "No parcels found inside the ROI for 0010.png\n",
      "Processed 0011.png -> Selected Parcel Center:(615.0,420.5), Depth: Z=1.0980 meters\n",
      " -> Saved cropped outputs for 0011 to ./Public_data_task_3/Public_data/Public_data_train/topmost_simplified_cropped_outputs\n",
      "No parcels found inside the ROI for 0012.png\n",
      "Processed 0013.png -> Selected Parcel Center:(676.0,375.5), Depth: Z=1.0480 meters\n",
      " -> Saved cropped outputs for 0013 to ./Public_data_task_3/Public_data/Public_data_train/topmost_simplified_cropped_outputs\n",
      "Processed 0014.png -> Selected Parcel Center:(672.0,323.0), Depth: Z=0.9850 meters\n",
      " -> Saved cropped outputs for 0014 to ./Public_data_task_3/Public_data/Public_data_train/topmost_simplified_cropped_outputs\n",
      "Processed 0015.png -> Selected Parcel Center:(724.0,363.5), Depth: Z=1.0550 meters\n",
      " -> Saved cropped outputs for 0015 to ./Public_data_task_3/Public_data/Public_data_train/topmost_simplified_cropped_outputs\n",
      "Processed 0016.png -> Selected Parcel Center:(595.0,424.5), Depth: Z=1.0950 meters\n",
      " -> Saved cropped outputs for 0016 to ./Public_data_task_3/Public_data/Public_data_train/topmost_simplified_cropped_outputs\n",
      "Processed 0017.png -> Selected Parcel Center:(692.0,301.5), Depth: Z=1.0050 meters\n",
      " -> Saved cropped outputs for 0017 to ./Public_data_task_3/Public_data/Public_data_train/topmost_simplified_cropped_outputs\n",
      "No parcels found inside the ROI for 0018.png\n",
      "No parcels found inside the ROI for 0019.png\n",
      "Processed 0020.png -> Selected Parcel Center:(579.0,285.5), Depth: Z=1.0680 meters\n",
      " -> Saved cropped outputs for 0020 to ./Public_data_task_3/Public_data/Public_data_train/topmost_simplified_cropped_outputs\n",
      "Processed 0021.png -> Selected Parcel Center:(672.0,327.0), Depth: Z=1.1060 meters\n",
      " -> Saved cropped outputs for 0021 to ./Public_data_task_3/Public_data/Public_data_train/topmost_simplified_cropped_outputs\n",
      "Processed 0022.png -> Selected Parcel Center:(608.0,289.0), Depth: Z=1.1420 meters\n",
      " -> Saved cropped outputs for 0022 to ./Public_data_task_3/Public_data/Public_data_train/topmost_simplified_cropped_outputs\n",
      "No parcels found inside the ROI for 0023.png\n",
      "No parcels found inside the ROI for 0024.png\n",
      "Processed 0025.png -> Selected Parcel Center:(596.0,266.5), Depth: Z=1.0640 meters\n",
      " -> Saved cropped outputs for 0025 to ./Public_data_task_3/Public_data/Public_data_train/topmost_simplified_cropped_outputs\n",
      "No parcels found inside the ROI for 0026.png\n",
      "Processed 0027.png -> Selected Parcel Center:(620.0,240.5), Depth: Z=1.0750 meters\n",
      " -> Saved cropped outputs for 0027 to ./Public_data_task_3/Public_data/Public_data_train/topmost_simplified_cropped_outputs\n",
      "Processed 0028.png -> Selected Parcel Center:(676.0,407.0), Depth: Z=1.0940 meters\n",
      " -> Saved cropped outputs for 0028 to ./Public_data_task_3/Public_data/Public_data_train/topmost_simplified_cropped_outputs\n",
      "Processed 0029.png -> Selected Parcel Center:(648.0,330.5), Depth: Z=1.1010 meters\n",
      " -> Saved cropped outputs for 0029 to ./Public_data_task_3/Public_data/Public_data_train/topmost_simplified_cropped_outputs\n",
      "No candidate objects found for 0030.png\n",
      "Processed 0031.png -> Selected Parcel Center:(636.0,353.0), Depth: Z=1.0430 meters\n",
      " -> Saved cropped outputs for 0031 to ./Public_data_task_3/Public_data/Public_data_train/topmost_simplified_cropped_outputs\n",
      "Processed 0032.png -> Selected Parcel Center:(584.0,330.5), Depth: Z=1.0990 meters\n",
      " -> Saved cropped outputs for 0032 to ./Public_data_task_3/Public_data/Public_data_train/topmost_simplified_cropped_outputs\n",
      "Processed 0033.png -> Selected Parcel Center:(784.0,383.0), Depth: Z=1.1360 meters\n",
      " -> Saved cropped outputs for 0033 to ./Public_data_task_3/Public_data/Public_data_train/topmost_simplified_cropped_outputs\n",
      "Processed 0034.png -> Selected Parcel Center:(732.0,225.5), Depth: Z=1.0290 meters\n",
      " -> Saved cropped outputs for 0034 to ./Public_data_task_3/Public_data/Public_data_train/topmost_simplified_cropped_outputs\n",
      "Processed 0035.png -> Selected Parcel Center:(644.0,229.0), Depth: Z=0.9500 meters\n",
      " -> Saved cropped outputs for 0035 to ./Public_data_task_3/Public_data/Public_data_train/topmost_simplified_cropped_outputs\n",
      "No parcels found inside the ROI for 0036.png\n",
      "No parcels found inside the ROI for 0037.png\n",
      "Processed 0038.png -> Selected Parcel Center:(752.0,300.5), Depth: Z=1.0270 meters\n",
      " -> Saved cropped outputs for 0038 to ./Public_data_task_3/Public_data/Public_data_train/topmost_simplified_cropped_outputs\n",
      "Processed 0039.png -> Selected Parcel Center:(668.0,296.5), Depth: Z=1.2000 meters\n",
      " -> Saved cropped outputs for 0039 to ./Public_data_task_3/Public_data/Public_data_train/topmost_simplified_cropped_outputs\n",
      "No parcels found inside the ROI for 0040.png\n",
      "No parcels found inside the ROI for 0041.png\n",
      "Processed 0042.png -> Selected Parcel Center:(596.0,379.0), Depth: Z=0.9750 meters\n",
      " -> Saved cropped outputs for 0042 to ./Public_data_task_3/Public_data/Public_data_train/topmost_simplified_cropped_outputs\n",
      "Processed 0043.png -> Selected Parcel Center:(723.0,285.5), Depth: Z=0.9990 meters\n",
      " -> Saved cropped outputs for 0043 to ./Public_data_task_3/Public_data/Public_data_train/topmost_simplified_cropped_outputs\n",
      "No parcels found inside the ROI for 0044.png\n",
      "Processed 0045.png -> Selected Parcel Center:(784.0,296.5), Depth: Z=1.0180 meters\n",
      " -> Saved cropped outputs for 0045 to ./Public_data_task_3/Public_data/Public_data_train/topmost_simplified_cropped_outputs\n",
      "Processed 0046.png -> Selected Parcel Center:(626.0,383.0), Depth: Z=1.1580 meters\n",
      " -> Saved cropped outputs for 0046 to ./Public_data_task_3/Public_data/Public_data_train/topmost_simplified_cropped_outputs\n",
      "Processed 0047.png -> Selected Parcel Center:(736.0,315.5), Depth: Z=1.1150 meters\n",
      " -> Saved cropped outputs for 0047 to ./Public_data_task_3/Public_data/Public_data_train/topmost_simplified_cropped_outputs\n",
      "Processed 0048.png -> Selected Parcel Center:(584.0,378.5), Depth: Z=1.0780 meters\n",
      " -> Saved cropped outputs for 0048 to ./Public_data_task_3/Public_data/Public_data_train/topmost_simplified_cropped_outputs\n",
      "Processed 0049.png -> Selected Parcel Center:(756.0,315.5), Depth: Z=1.1310 meters\n",
      " -> Saved cropped outputs for 0049 to ./Public_data_task_3/Public_data/Public_data_train/topmost_simplified_cropped_outputs\n",
      "\n",
      "Finished processing all images.\n"
     ]
    }
   ],
   "source": [
    "for rgb_name in sorted(os.listdir(RGB_DIR)):\n",
    "    if not rgb_name.lower().endswith((\".png\", \".jpg\", \".jpeg\")):\n",
    "        continue\n",
    "\n",
    "    base_name = os.path.splitext(rgb_name)[0]\n",
    "    rgb_path = os.path.join(RGB_DIR, rgb_name)\n",
    "    depth_path = os.path.join(DEPTH_DIR, rgb_name)\n",
    "    try:\n",
    "        rgb, depth = load_rgb_depth(rgb_path, depth_path)\n",
    "    except FileNotFoundError as e:\n",
    "        print(f\"Error: {e}\")\n",
    "        continue\n",
    "\n",
    "    # Nhận tất cả các mask bưu kiện từ YOLO\n",
    "    results = model.predict(rgb, verbose=False)\n",
    "    valid_masks = []\n",
    "    if results and results[0].masks is not None:\n",
    "        raw_masks = results[0].masks.data.cpu().numpy()\n",
    "        for raw in raw_masks:\n",
    "            m = mask_resize_to_image(raw, rgb.shape)\n",
    "            if np.count_nonzero(m) >= MIN_MASK_PIXEL:\n",
    "                valid_masks.append(m)\n",
    "\n",
    "    # Nếu YOLO không tìm thấy gì, bỏ qua\n",
    "    if not valid_masks:\n",
    "        print(f\"No candidate objects found for {rgb_name}\")\n",
    "        continue\n",
    "\n",
    "    # Xây dựng danh sách bưu kiện chỉ với depth\n",
    "    all_candidates = []\n",
    "    for mask in valid_masks:\n",
    "        bbox = bbox_from_mask(mask)\n",
    "        if bbox is None:\n",
    "            continue\n",
    "        cx, cy = center_of_bbox(bbox)\n",
    "        z_meters = get_depth_in_meters(cx, cy, depth, DEPTH_SCALE)\n",
    "        if z_meters is not None:\n",
    "            all_candidates.append({\n",
    "                \"mask\": mask, #Thêm mask vào để cắt sau này\n",
    "                \"bbox\": bbox,\n",
    "                \"center\": (cx, cy),\n",
    "                \"depth_meters\": z_meters\n",
    "            })\n",
    "\n",
    "    # Lọc ứng viên trong ROI\n",
    "    roi_candidates = [c for c in all_candidates if is_center_in_roi(c['center'], FIXED_ROI_XYWH)]\n",
    "\n",
    "    if not roi_candidates:\n",
    "        print(f\"No parcels found inside the ROI for {rgb_name}\")\n",
    "        continue\n",
    "\n",
    "    # Sắp xếp và tìm ứng viên tốt nhất\n",
    "    roi_candidates.sort(key=cmp_to_key(compare_parcels_simplified))\n",
    "    best = roi_candidates[0]\n",
    "    \n",
    "    # Tạo ảnh trực quan hóa\n",
    "    x, y, w, h = best[\"bbox\"]\n",
    "    cx, cy = best[\"center\"]\n",
    "    Z = best[\"depth_meters\"]\n",
    "    \n",
    "    vis_img = rgb.copy()\n",
    "    cv2.rectangle(vis_img, (x, y), (x + w, y + h), color=(0, 255, 0), thickness=2)\n",
    "    roi_x, roi_y, roi_w, roi_h = FIXED_ROI_XYWH\n",
    "    cv2.rectangle(vis_img, (roi_x, roi_y), (roi_x + roi_w, roi_y + roi_h), color=(255, 0, 0), thickness=2)\n",
    "    \n",
    "    text = f\"Center:({cx},{cy}) Depth Z:{Z:.2f}m\"\n",
    "    ty = y - 10 if y - 10 > 10 else y + h + 25\n",
    "    cv2.putText(vis_img, text, (x, ty), cv2.FONT_HERSHEY_SIMPLEX, 0.6, (0, 255, 0), 2)\n",
    "    \n",
    "    vis_out_name = os.path.join(VISUALIZATION_SAVE_DIR, f\"{base_name}_visualization.png\")\n",
    "    cv2.imwrite(vis_out_name, vis_img)\n",
    "    \n",
    "    print(f\"Processed {rgb_name} -> Selected Parcel Center:({cx},{cy}), Depth: Z={Z:.4f} meters\")\n",
    "\n",
    "    # Cắt và lưu ảnh cho Giai đoạn 2 \n",
    "    top_mask = best[\"mask\"]\n",
    "    \n",
    "    rgb_crop = rgb[y:y+h, x:x+w]\n",
    "    depth_crop = depth[y:y+h, x:x+w]\n",
    "    mask_crop = top_mask[y:y+h, x:x+w]\n",
    "    \n",
    "    cv2.imwrite(os.path.join(CROP_SAVE_DIR, f\"{base_name}_rgb_crop.png\"), rgb_crop)\n",
    "    cv2.imwrite(os.path.join(CROP_SAVE_DIR, f\"{base_name}_depth_crop.png\"), depth_crop)\n",
    "    cv2.imwrite(os.path.join(CROP_SAVE_DIR, f\"{base_name}_mask_crop.png\"), mask_crop * 255)\n",
    "    print(f\" -> Saved cropped outputs for {base_name} to {CROP_SAVE_DIR}\")\n",
    "\n",
    "\n",
    "print(\"\\nFinished processing all images.\")\n",
    "\n"
   ]
  }
 ],
 "metadata": {
  "kernelspec": {
   "display_name": "current_python",
   "language": "python",
   "name": "python3"
  },
  "language_info": {
   "codemirror_mode": {
    "name": "ipython",
    "version": 3
   },
   "file_extension": ".py",
   "mimetype": "text/x-python",
   "name": "python",
   "nbconvert_exporter": "python",
   "pygments_lexer": "ipython3",
   "version": "3.12.11"
  }
 },
 "nbformat": 4,
 "nbformat_minor": 5
}
