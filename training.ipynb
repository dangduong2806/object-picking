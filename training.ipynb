{
 "cells": [
  {
   "cell_type": "markdown",
   "id": "f1c422fd",
   "metadata": {},
   "source": [
    "File này: Huấn luyện model dựa trên dataset mới"
   ]
  },
  {
   "cell_type": "code",
   "execution_count": 20,
   "id": "5bf9f865",
   "metadata": {},
   "outputs": [],
   "source": [
    "import torch\n",
    "from torch.utils.data import Dataset\n",
    "import os\n",
    "import numpy as np\n",
    "import open3d as o3d\n",
    "\n",
    "class PointCloudDataset(Dataset):\n",
    "    def __init__(self, data_dir, num_points=2048):\n",
    "        self.data_dir = data_dir\n",
    "        self.samples = [os.path.join(data_dir, \"pointclouds\", f)\n",
    "                        for f in os.listdir(os.path.join(data_dir, \"pointclouds\"))\n",
    "                        if f.endswith(\".ply\")]\n",
    "        self.num_points = num_points\n",
    "\n",
    "    def __len__(self):\n",
    "        return len(self.samples)\n",
    "\n",
    "    def __getitem__(self, idx):\n",
    "        try:\n",
    "            # Load point cloud từ file .ply\n",
    "            pcd = o3d.io.read_point_cloud(self.samples[idx])\n",
    "            points = np.asarray(pcd.points)  # Shape: [N, 3] (x, y, z)\n",
    "\n",
    "            # Kiểm tra điểm hợp lệ\n",
    "            if points.shape[0] == 0:\n",
    "                raise ValueError(f\"Empty point cloud in {self.samples[idx]}\")\n",
    "\n",
    "            # Tính toán normal vectors nếu không có\n",
    "            if not pcd.has_normals():\n",
    "                pcd.estimate_normals(search_param=o3d.geometry.KDTreeSearchParamHybrid(radius=0.1, max_nn=30))\n",
    "            normals = np.asarray(pcd.normals)  # Shape: [N, 3] (nx, ny, nz)\n",
    "\n",
    "            # Kết hợp points và normals thành [N, 6]\n",
    "            points = np.concatenate([points, normals], axis=1)  # Shape: [N, 6]\n",
    "\n",
    "            # Validate points shape\n",
    "            if points.shape[1] != 6:\n",
    "                raise ValueError(f\"Invalid points shape in {self.samples[idx]}: got {points.shape}, expected (N, 6)\")\n",
    "\n",
    "            # Subsample hoặc pad để có số điểm cố định\n",
    "            num_points = points.shape[0]\n",
    "            if num_points > self.num_points:\n",
    "                # Randomly subsample points\n",
    "                indices = np.random.choice(num_points, self.num_points, replace=False)\n",
    "                points = points[indices]\n",
    "            elif num_points < self.num_points:\n",
    "                # Pad với các điểm lặp lại\n",
    "                indices = np.random.choice(num_points, self.num_points - num_points, replace=True)\n",
    "                points = np.concatenate([points, points[indices]], axis=0)\n",
    "            # Now points.shape = [self.num_points, 6]\n",
    "\n",
    "            # Xác định bưu kiện topmost dựa trên tọa độ z cao nhất\n",
    "            z_coords = points[:, 2]  # Lấy cột z (tọa độ z)\n",
    "            max_z = np.max(z_coords)\n",
    "            topmost_mask = z_coords >= max_z - 0.01  # Ngưỡng nhỏ để lấy các điểm gần max z\n",
    "            topmost_points = points[topmost_mask]\n",
    "\n",
    "            # Kiểm tra nếu không có điểm topmost\n",
    "            if len(topmost_points) == 0:\n",
    "                raise ValueError(f\"No topmost points found in {self.samples[idx]} with z >= {max_z - 0.01}\")\n",
    "\n",
    "            # Tính tâm và vector pháp tuyến của bưu kiện topmost\n",
    "            center_gt = np.mean(topmost_points[:, :3], axis=0)  # Trung bình x, y, z\n",
    "            normal_gt = np.mean(topmost_points[:, 3:], axis=0)  # Trung bình nx, ny, nz\n",
    "\n",
    "            # Chuẩn hóa vector pháp tuyến, xử lý trường hợp zero vector\n",
    "            norm = np.linalg.norm(normal_gt)\n",
    "            if norm < 1e-8:  # Nếu norm quá nhỏ, trả về vector pháp tuyến mặc định\n",
    "                normal_gt = np.array([0.0, 0.0, 1.0])  # Mặc định hướng lên (z-axis)\n",
    "            else:\n",
    "                normal_gt = normal_gt / norm\n",
    "\n",
    "            return (torch.tensor(points, dtype=torch.float32),\n",
    "                    torch.tensor(center_gt, dtype=torch.float32),\n",
    "                    torch.tensor(normal_gt, dtype=torch.float32))\n",
    "        except Exception as e:\n",
    "            raise ValueError(f\"Error processing {self.samples[idx]}: {str(e)}\")"
   ]
  },
  {
   "cell_type": "code",
   "execution_count": 9,
   "id": "6153041d",
   "metadata": {},
   "outputs": [
    {
     "name": "stdout",
     "output_type": "stream",
     "text": [
      "['labels', 'pointclouds']\n"
     ]
    }
   ],
   "source": [
    "import os\n",
    "print(os.listdir(\"dataset\"))\n"
   ]
  },
  {
   "cell_type": "code",
   "execution_count": 3,
   "id": "3bc96bdb",
   "metadata": {},
   "outputs": [],
   "source": [
    "import torch\n",
    "import torch.nn as nn\n",
    "\n",
    "class SimplePointNet(nn.Module):\n",
    "    def __init__(self):\n",
    "        super(SimplePointNet, self).__init__()\n",
    "        \n",
    "        # MLP để xử lý từng điểm trong point cloud\n",
    "        self.mlp = nn.Sequential(\n",
    "            nn.Linear(6, 64),  # Input: 6 (x, y, z, nx, ny, nz)\n",
    "            nn.ReLU(),\n",
    "            nn.Linear(64, 128),\n",
    "            nn.ReLU(),\n",
    "            nn.Linear(128, 256),\n",
    "            nn.ReLU()\n",
    "        )\n",
    "        \n",
    "        # Fully connected layers để dự đoán tâm và pháp tuyến\n",
    "        self.fc = nn.Sequential(\n",
    "            nn.Linear(256, 128),\n",
    "            nn.ReLU(),\n",
    "            nn.Linear(128, 6)  # Output: 3 (tâm: x, y, z) + 3 (pháp tuyến: nx, ny, nz)\n",
    "        )\n",
    "\n",
    "    def forward(self, x):\n",
    "        # x: [B, N, 6]\n",
    "        x = self.mlp(x)  # [B, N, 256]\n",
    "        x = torch.max(x, dim=1)[0]  # Global Max Pool → [B, 256]\n",
    "        out = self.fc(x)  # [B, 6]\n",
    "        center_pred = out[:, :3]  # Tọa độ tâm\n",
    "        normal_pred = out[:, 3:]  # Vector pháp tuyến\n",
    "        # Chuẩn hóa vector pháp tuyến dự đoán\n",
    "        normal_pred = normal_pred / (torch.norm(normal_pred, dim=-1, keepdim=True) + 1e-8)\n",
    "        return center_pred, normal_pred"
   ]
  },
  {
   "cell_type": "code",
   "execution_count": 4,
   "id": "63b31957",
   "metadata": {},
   "outputs": [],
   "source": [
    "import torch.nn.functional as F\n",
    "\n",
    "def compute_loss(center_pred, center_gt, normal_pred, normal_gt):\n",
    "    # Tính loss cho tọa độ tâm bằng MSE\n",
    "    loss_center = F.mse_loss(center_pred, center_gt)\n",
    "    # Tính loss cho vector pháp tuyến bằng cosine similarity\n",
    "    loss_normal = 1 - F.cosine_similarity(normal_pred, normal_gt, dim=-1).mean()\n",
    "    \n",
    "    return loss_center + loss_normal, loss_center, loss_normal"
   ]
  },
  {
   "cell_type": "code",
   "execution_count": 21,
   "id": "5b629a89",
   "metadata": {},
   "outputs": [],
   "source": [
    "import torch\n",
    "from torch.utils.data import DataLoader\n",
    "\n",
    "\n",
    "device = torch.device(\"cuda\" if torch.cuda.is_available() else \"cpu\")\n",
    "\n",
    "dataset = PointCloudDataset(\"./dataset\")  # từ Module 5\n",
    "loader = DataLoader(dataset, batch_size=8, shuffle=True)\n",
    "\n",
    "model = SimplePointNet().to(device)\n",
    "optimizer = torch.optim.Adam(model.parameters(), lr=1e-4)\n"
   ]
  },
  {
   "cell_type": "code",
   "execution_count": 12,
   "id": "afd8b903",
   "metadata": {},
   "outputs": [
    {
     "name": "stdout",
     "output_type": "stream",
     "text": [
      "cuda\n"
     ]
    }
   ],
   "source": [
    "print(device)"
   ]
  },
  {
   "cell_type": "code",
   "execution_count": 22,
   "id": "3c3426f0",
   "metadata": {},
   "outputs": [
    {
     "name": "stdout",
     "output_type": "stream",
     "text": [
      "Epoch 1: total=1.1540, center=0.4216, normal=0.7324\n",
      "Epoch 2: total=1.1232, center=0.4002, normal=0.7230\n",
      "Epoch 3: total=1.0367, center=0.3760, normal=0.6607\n",
      "Epoch 4: total=1.0412, center=0.3632, normal=0.6780\n",
      "Epoch 5: total=1.0153, center=0.3384, normal=0.6770\n",
      "Epoch 6: total=0.9180, center=0.3188, normal=0.5992\n",
      "Epoch 7: total=1.0221, center=0.3009, normal=0.7212\n",
      "Epoch 8: total=0.9447, center=0.2915, normal=0.6532\n",
      "Epoch 9: total=0.9845, center=0.2708, normal=0.7137\n",
      "Epoch 10: total=1.0401, center=0.2574, normal=0.7827\n"
     ]
    }
   ],
   "source": [
    "for epoch in range(10):\n",
    "    model.train()\n",
    "    total_loss, total_lc, total_ln = 0, 0, 0\n",
    "    try:\n",
    "        for points, center_gt, normal_gt in loader:\n",
    "            points = points.to(device)      # [B, 2048, 6]\n",
    "            center_gt = center_gt.to(device)  # [B, 3]\n",
    "            normal_gt = normal_gt.to(device)  # [B, 3]\n",
    "\n",
    "            # Dự đoán tâm và pháp tuyến\n",
    "            center_pred, normal_pred = model(points)\n",
    "\n",
    "            # Tính loss\n",
    "            loss, lc, ln = compute_loss(center_pred, center_gt, normal_pred, normal_gt)\n",
    "\n",
    "            # Backpropagation và cập nhật tham số\n",
    "            optimizer.zero_grad()\n",
    "            loss.backward()\n",
    "            optimizer.step()\n",
    "\n",
    "            total_loss += loss.item()\n",
    "            total_lc += lc.item()\n",
    "            total_ln += ln.item()\n",
    "\n",
    "        # In kết quả trung bình mỗi epoch\n",
    "        avg_loss = total_loss / len(loader)\n",
    "        avg_lc = total_lc / len(loader)\n",
    "        avg_ln = total_ln / len(loader)\n",
    "        print(f'Epoch {epoch+1}: total={avg_loss:.4f}, center={avg_lc:.4f}, normal={avg_ln:.4f}')\n",
    "    except Exception as e:\n",
    "        print(f\"Error during training at epoch {epoch+1}: {e}\")\n",
    "        raise"
   ]
  },
  {
   "cell_type": "code",
   "execution_count": null,
   "id": "538c5ead",
   "metadata": {},
   "outputs": [],
   "source": []
  }
 ],
 "metadata": {
  "kernelspec": {
   "display_name": "duong_kernel_2",
   "language": "python",
   "name": "duong_kernel_2"
  },
  "language_info": {
   "codemirror_mode": {
    "name": "ipython",
    "version": 3
   },
   "file_extension": ".py",
   "mimetype": "text/x-python",
   "name": "python",
   "nbconvert_exporter": "python",
   "pygments_lexer": "ipython3",
   "version": "3.10.0"
  }
 },
 "nbformat": 4,
 "nbformat_minor": 5
}
