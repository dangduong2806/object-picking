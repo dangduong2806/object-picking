{
 "cells": [
  {
   "cell_type": "markdown",
   "id": "f1c422fd",
   "metadata": {},
   "source": [
    "File này: Huấn luyện model dựa trên dataset mới"
   ]
  },
  {
   "cell_type": "code",
   "execution_count": 1,
   "id": "5bf9f865",
   "metadata": {},
   "outputs": [],
   "source": [
    "import torch\n",
    "from torch.utils.data import Dataset\n",
    "import os\n",
    "import numpy as np\n",
    "\n",
    "class PointCloudDataset(Dataset):\n",
    "    def __init__(self, data_dir):\n",
    "        self.data_dir = data_dir\n",
    "        self.samples = [os.path.join(data_dir, f) \n",
    "                        for f in os.listdir(data_dir) if f.endswith(\".npz\")]\n",
    "\n",
    "    def __len__(self):\n",
    "        return len(self.samples)\n",
    "\n",
    "    def __getitem__(self, idx):\n",
    "        data = np.load(self.samples[idx])\n",
    "        \n",
    "        points = torch.tensor(data[\"points\"], dtype=torch.float32)      # Nx6\n",
    "        center_gt = torch.tensor(data[\"center_gt\"], dtype=torch.float32)  # (3,)\n",
    "        normal_gt = torch.tensor(data[\"normal_gt\"], dtype=torch.float32)  # (3,)\n",
    "\n",
    "        return points, center_gt, normal_gt"
   ]
  },
  {
   "cell_type": "code",
   "execution_count": 2,
   "id": "3bc96bdb",
   "metadata": {},
   "outputs": [],
   "source": [
    "import torch\n",
    "import torch.nn as nn\n",
    "\n",
    "class SimplePointNet(nn.Module):\n",
    "    def __init__(self):\n",
    "        super(SimplePointNet, self).__init__()\n",
    "        \n",
    "        self.mlp = nn.Sequential(\n",
    "            nn.Linear(6, 64),\n",
    "            nn.ReLU(),\n",
    "            nn.Linear(64, 128),\n",
    "            nn.ReLU(),\n",
    "            nn.Linear(128, 256),\n",
    "            nn.ReLU()\n",
    "        )\n",
    "        \n",
    "        self.fc = nn.Sequential(\n",
    "            nn.Linear(256, 128),\n",
    "            nn.ReLU(),\n",
    "            nn.Linear(128, 6)    # 3 center + 3 normal\n",
    "        )\n",
    "\n",
    "    def forward(self, x):\n",
    "        # x: [B, N, 6]\n",
    "        x = self.mlp(x)       # [B, N, 256]\n",
    "        x = torch.max(x, dim=1)[0]   # Global Max Pool → [B, 256]\n",
    "        out = self.fc(x)      # [B, 6]\n",
    "        center_pred = out[:, :3]\n",
    "        normal_pred = out[:, 3:]\n",
    "        return center_pred, normal_pred"
   ]
  },
  {
   "cell_type": "code",
   "execution_count": 3,
   "id": "63b31957",
   "metadata": {},
   "outputs": [],
   "source": [
    "import torch.nn.functional as F\n",
    "\n",
    "def compute_loss(center_pred, center_gt, normal_pred, normal_gt):\n",
    "    loss_center = F.mse_loss(center_pred, center_gt)\n",
    "    loss_normal = 1 - F.cosine_similarity(normal_pred, normal_gt, dim=-1).mean()\n",
    "    \n",
    "    return loss_center + loss_normal, loss_center, loss_normal"
   ]
  },
  {
   "cell_type": "code",
   "execution_count": null,
   "id": "5b629a89",
   "metadata": {},
   "outputs": [],
   "source": [
    "import torch\n",
    "from torch.utils.data import DataLoader\n",
    "from module6_dataset import PointCloudDataset\n",
    "from module6_model import SimplePointNet\n",
    "from module6_loss import compute_loss\n",
    "\n",
    "device = torch.device(\"cuda\" if torch.cuda.is_available() else \"cpu\")\n",
    "\n",
    "dataset = PointCloudDataset(\"dataset\")  # từ Module 5\n",
    "loader = DataLoader(dataset, batch_size=8, shuffle=True)\n",
    "\n",
    "model = SimplePointNet().to(device)\n",
    "optimizer = torch.optim.Adam(model.parameters(), lr=1e-4)\n"
   ]
  },
  {
   "cell_type": "code",
   "execution_count": null,
   "id": "3c3426f0",
   "metadata": {},
   "outputs": [],
   "source": [
    "for epoch in range(10):\n",
    "    for points, center_gt, normal_gt in loader:\n",
    "        points = points.to(device)      # [B, N, 6]\n",
    "        center_gt = center_gt.to(device)\n",
    "        normal_gt = normal_gt.to(device)\n",
    "\n",
    "        center_pred, normal_pred = model(points)\n",
    "\n",
    "        loss, lc, ln = compute_loss(center_pred, center_gt, normal_pred, normal_gt)\n",
    "\n",
    "        optimizer.zero_grad()\n",
    "        loss.backward()\n",
    "        optimizer.step()\n",
    "\n",
    "    print(f\"Epoch {epoch}: total={loss.item():.4f}, center={lc:.4f}, normal={ln:.4f}\")"
   ]
  }
 ],
 "metadata": {
  "kernelspec": {
   "display_name": "duong_kernel_2",
   "language": "python",
   "name": "duong_kernel_2"
  },
  "language_info": {
   "codemirror_mode": {
    "name": "ipython",
    "version": 3
   },
   "file_extension": ".py",
   "mimetype": "text/x-python",
   "name": "python",
   "nbconvert_exporter": "python",
   "pygments_lexer": "ipython3",
   "version": "3.10.0"
  }
 },
 "nbformat": 4,
 "nbformat_minor": 5
}
