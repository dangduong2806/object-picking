{
 "cells": [
  {
   "cell_type": "markdown",
   "id": "fd562552",
   "metadata": {},
   "source": [
    "Tôi để thông số ở đây cho dễ copy nhé. Chứ hàm này có vẻ không cần"
   ]
  },
  {
   "cell_type": "code",
   "execution_count": 1,
   "id": "a265a55f",
   "metadata": {},
   "outputs": [],
   "source": [
    "# ==============================\n",
    "# File: config/camera_params.py\n",
    "# Mô tả: Chứa camera intrinsics & extrinsics\n",
    "# ==============================\n",
    "\n",
    "import numpy as np\n",
    "\n",
    "class CameraParams:\n",
    "    def __init__(self):\n",
    "        # ==========================\n",
    "        # THAY CÁC GIÁ TRỊ NÀY BẰNG\n",
    "        # GIÁ TRỊ TỪ CAMERA CỦA BẠN\n",
    "        # ==========================\n",
    "\n",
    "        # Intrinsic matrix\n",
    "        self.fx =  643.90087890625      \n",
    "        self.fy =  643.1365356445312      \n",
    "        self.cx =  650.2113037109375      \n",
    "        self.cy =  355.79559326171875      \n",
    "\n",
    "        # Build intrinsic matrix\n",
    "        self.K = np.array([\n",
    "            [self.fx, 0,        self.cx],\n",
    "            [0,        self.fy, self.cy],\n",
    "            [0,        0,        1     ]\n",
    "        ])\n",
    "\n",
    "        # Extrinsics (Rotation + Translation)\n",
    "        # Nếu camera là pose chuẩn (world aligned), có thể để mặc định\n",
    "        self.R = np.array([\n",
    "            [0.9999898076057434, -0.00020347206736914814, -0.004507721401751041],\n",
    "            [0.00018898719281423837, 0.9999948143959045, -0.0032135415822267532],\n",
    "            [0.004508351907134056, 0.003212657058611512, 0.9999846816062927]\n",
    "        ])\n",
    "        self.T = np.array(\n",
    "            [-0.05905, 8.67399e-05, 0.00041]\n",
    "        )\n",
    "\n",
    "    def get_intrinsic(self):\n",
    "        return self.K\n",
    "\n",
    "    def get_extrinsic(self):\n",
    "        return self.R, self.T\n",
    "\n",
    "\n",
    "# ==========================\n",
    "# Cách sử dụng:\n",
    "# from config.camera_params import CameraParams\n",
    "# cam = CameraParams()\n",
    "# K = cam.get_intrinsic()\n",
    "# ==========================\n"
   ]
  }
 ],
 "metadata": {
  "kernelspec": {
   "display_name": "current_python",
   "language": "python",
   "name": "python3"
  },
  "language_info": {
   "codemirror_mode": {
    "name": "ipython",
    "version": 3
   },
   "file_extension": ".py",
   "mimetype": "text/x-python",
   "name": "python",
   "nbconvert_exporter": "python",
   "pygments_lexer": "ipython3",
   "version": "3.12.11"
  }
 },
 "nbformat": 4,
 "nbformat_minor": 5
}
