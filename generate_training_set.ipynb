{
 "cells": [
  {
   "cell_type": "markdown",
   "id": "d91c0fbc",
   "metadata": {},
   "source": [
    "File này: Với các điểm data 3D trong ROI đã được lọc, ta tạo một dataset mới để train"
   ]
  },
  {
   "cell_type": "code",
   "execution_count": 5,
   "id": "953cc22f",
   "metadata": {},
   "outputs": [],
   "source": [
    "# Ghép với ply đã lọc ở module filter_ply\n",
    "\n",
    "# generate_training_set.py\n",
    "\n",
    "import os\n",
    "import pandas as pd\n",
    "import open3d as o3d\n",
    "\n",
    "class TrainingSetBuilder:\n",
    "    def __init__(self, csv_path, ply_folder, output_folder):\n",
    "        self.csv_path = csv_path\n",
    "        self.ply_folder = ply_folder\n",
    "        self.output_folder = output_folder\n",
    "\n",
    "        os.makedirs(os.path.join(output_folder, \"pointclouds\"), exist_ok=True)\n",
    "        os.makedirs(os.path.join(output_folder, \"labels\"), exist_ok=True)\n",
    "\n",
    "    def build_train_set(self):\n",
    "        df = pd.read_excel(self.csv_path)\n",
    "\n",
    "        for idx, row in df.iterrows():\n",
    "            image_name = row[\"image_filename\"]\n",
    "            base_name = image_name.replace(\".png\", \"\")\n",
    "\n",
    "            ply_path = os.path.join(self.ply_folder, f\"{base_name}.ply\")\n",
    "            if not os.path.exists(ply_path):\n",
    "                print(f\"⚠️ Không tìm thấy PLY: {ply_path}\")\n",
    "                continue\n",
    "\n",
    "            # Copy / Chuẩn hoá point cloud\n",
    "            pc = o3d.io.read_point_cloud(ply_path)\n",
    "            save_pc = os.path.join(self.output_folder, \"pointclouds\", f\"{base_name}.ply\")\n",
    "            o3d.io.write_point_cloud(save_pc, pc)\n",
    "\n",
    "            # Ghi file label\n",
    "            label_path = os.path.join(self.output_folder, \"labels\", f\"{base_name}.txt\")\n",
    "            with open(label_path, \"w\") as f:\n",
    "                cx, cy, cz = row[\"x\"], row[\"y\"], row[\"z\"]\n",
    "                nx, ny, nz = row[\"Rx\"], row[\"Ry\"], row[\"Rz\"]\n",
    "                f.write(f\"{cx} {cy} {cz} {nx} {ny} {nz}\")\n",
    "\n",
    "            print(f\"✅ Tạo dataset cho {base_name}\")"
   ]
  },
  {
   "cell_type": "code",
   "execution_count": 6,
   "id": "42cf6b3c",
   "metadata": {},
   "outputs": [
    {
     "name": "stdout",
     "output_type": "stream",
     "text": [
      "⚠️ Không tìm thấy PLY: data/filtered_ply\\image_0000.ply\n",
      "⚠️ Không tìm thấy PLY: data/filtered_ply\\image_0001.ply\n",
      "⚠️ Không tìm thấy PLY: data/filtered_ply\\image_0002.ply\n",
      "⚠️ Không tìm thấy PLY: data/filtered_ply\\image_0003.ply\n",
      "⚠️ Không tìm thấy PLY: data/filtered_ply\\image_0004.ply\n",
      "⚠️ Không tìm thấy PLY: data/filtered_ply\\image_0005.ply\n",
      "⚠️ Không tìm thấy PLY: data/filtered_ply\\image_0006.ply\n",
      "⚠️ Không tìm thấy PLY: data/filtered_ply\\image_0007.ply\n",
      "⚠️ Không tìm thấy PLY: data/filtered_ply\\image_0008.ply\n",
      "⚠️ Không tìm thấy PLY: data/filtered_ply\\image_0009.ply\n",
      "⚠️ Không tìm thấy PLY: data/filtered_ply\\image_0010.ply\n",
      "⚠️ Không tìm thấy PLY: data/filtered_ply\\image_0011.ply\n",
      "⚠️ Không tìm thấy PLY: data/filtered_ply\\image_0012.ply\n",
      "⚠️ Không tìm thấy PLY: data/filtered_ply\\image_0013.ply\n",
      "⚠️ Không tìm thấy PLY: data/filtered_ply\\image_0014.ply\n",
      "⚠️ Không tìm thấy PLY: data/filtered_ply\\image_0015.ply\n",
      "⚠️ Không tìm thấy PLY: data/filtered_ply\\image_0016.ply\n",
      "⚠️ Không tìm thấy PLY: data/filtered_ply\\image_0017.ply\n",
      "⚠️ Không tìm thấy PLY: data/filtered_ply\\image_0018.ply\n",
      "⚠️ Không tìm thấy PLY: data/filtered_ply\\image_0019.ply\n",
      "⚠️ Không tìm thấy PLY: data/filtered_ply\\image_0020.ply\n",
      "⚠️ Không tìm thấy PLY: data/filtered_ply\\image_0021.ply\n",
      "⚠️ Không tìm thấy PLY: data/filtered_ply\\image_0022.ply\n",
      "⚠️ Không tìm thấy PLY: data/filtered_ply\\image_0023.ply\n",
      "⚠️ Không tìm thấy PLY: data/filtered_ply\\image_0024.ply\n",
      "⚠️ Không tìm thấy PLY: data/filtered_ply\\image_0025.ply\n",
      "⚠️ Không tìm thấy PLY: data/filtered_ply\\image_0026.ply\n",
      "⚠️ Không tìm thấy PLY: data/filtered_ply\\image_0027.ply\n",
      "⚠️ Không tìm thấy PLY: data/filtered_ply\\image_0028.ply\n",
      "⚠️ Không tìm thấy PLY: data/filtered_ply\\image_0029.ply\n",
      "⚠️ Không tìm thấy PLY: data/filtered_ply\\image_0030.ply\n",
      "⚠️ Không tìm thấy PLY: data/filtered_ply\\image_0031.ply\n",
      "⚠️ Không tìm thấy PLY: data/filtered_ply\\image_0032.ply\n",
      "⚠️ Không tìm thấy PLY: data/filtered_ply\\image_0033.ply\n",
      "⚠️ Không tìm thấy PLY: data/filtered_ply\\image_0034.ply\n",
      "⚠️ Không tìm thấy PLY: data/filtered_ply\\image_0035.ply\n",
      "⚠️ Không tìm thấy PLY: data/filtered_ply\\image_0036.ply\n",
      "⚠️ Không tìm thấy PLY: data/filtered_ply\\image_0037.ply\n",
      "⚠️ Không tìm thấy PLY: data/filtered_ply\\image_0038.ply\n",
      "⚠️ Không tìm thấy PLY: data/filtered_ply\\image_0039.ply\n",
      "⚠️ Không tìm thấy PLY: data/filtered_ply\\image_0040.ply\n",
      "⚠️ Không tìm thấy PLY: data/filtered_ply\\image_0041.ply\n",
      "⚠️ Không tìm thấy PLY: data/filtered_ply\\image_0042.ply\n",
      "⚠️ Không tìm thấy PLY: data/filtered_ply\\image_0043.ply\n",
      "⚠️ Không tìm thấy PLY: data/filtered_ply\\image_0044.ply\n",
      "⚠️ Không tìm thấy PLY: data/filtered_ply\\image_0045.ply\n",
      "⚠️ Không tìm thấy PLY: data/filtered_ply\\image_0046.ply\n",
      "⚠️ Không tìm thấy PLY: data/filtered_ply\\image_0047.ply\n",
      "⚠️ Không tìm thấy PLY: data/filtered_ply\\image_0048.ply\n",
      "⚠️ Không tìm thấy PLY: data/filtered_ply\\image_0049.ply\n"
     ]
    }
   ],
   "source": [
    "builder = TrainingSetBuilder(\n",
    "        csv_path=\"Public data/Public data train/Public_train.xlsx\",\n",
    "        ply_folder=\"data/filtered_ply\",          # PLY đã lọc từ Module 4\n",
    "        output_folder=\"dataset/\"\n",
    "    )\n",
    "builder.build_train_set()"
   ]
  }
 ],
 "metadata": {
  "kernelspec": {
   "display_name": "duong_kernel_2",
   "language": "python",
   "name": "duong_kernel_2"
  },
  "language_info": {
   "codemirror_mode": {
    "name": "ipython",
    "version": 3
   },
   "file_extension": ".py",
   "mimetype": "text/x-python",
   "name": "python",
   "nbconvert_exporter": "python",
   "pygments_lexer": "ipython3",
   "version": "3.10.0"
  }
 },
 "nbformat": 4,
 "nbformat_minor": 5
}
