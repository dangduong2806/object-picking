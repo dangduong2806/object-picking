{
 "cells": [
  {
   "cell_type": "markdown",
   "id": "3e9a72a2",
   "metadata": {},
   "source": [
    "Hàm này là để chuyển pixel trong ROI 2D thành điểm 3D"
   ]
  },
  {
   "cell_type": "markdown",
   "id": "990e1d47",
   "metadata": {},
   "source": [
    "Hàm phía dưới là xử lý với 1 ảnh"
   ]
  },
  {
   "cell_type": "code",
   "execution_count": 11,
   "id": "aa0b4c4c",
   "metadata": {},
   "outputs": [],
   "source": [
    "# Chuyển từ pixel trong ROI 2D thành điểm 3D trong hệ tọa độ camera \n",
    "# -> tạo point cloud ROI\n",
    "\n",
    "# project_to_3d.py\n",
    "\n",
    "import numpy as np\n",
    "import open3d as o3d\n",
    "\n",
    "class ROIProjector3D:\n",
    "    def __init__(self, intrinsics):\n",
    "        \"\"\"\n",
    "        intrinsics = {\n",
    "            \"fx\": ...,\n",
    "            \"fy\": ...,\n",
    "            \"cx\": ...,\n",
    "            \"cy\": ...\n",
    "        }\n",
    "        \"\"\"\n",
    "        self.fx = intrinsics[\"fx\"]\n",
    "        self.fy = intrinsics[\"fy\"]\n",
    "        self.cx = intrinsics[\"cx\"]\n",
    "        self.cy = intrinsics[\"cy\"]\n",
    "\n",
    "    def project_roi_to_pointcloud(self, rgb_img, depth_img, roi_bbox, depth_scale=0.001):\n",
    "        \"\"\"\n",
    "        Chuyển ROI 2D → Point Cloud 3D.\n",
    "        @param rgb_img: numpy array ảnh RGB (H, W, 3)\n",
    "        @param depth_img: numpy array depth (H, W)\n",
    "        @param roi_bbox: (x, y, w, h)\n",
    "        @param depth_scale: scale từ mm → m\n",
    "        @return: Open3D PointCloud chứa điểm trong ROI\n",
    "        \"\"\"\n",
    "        x, y, w, h = roi_bbox\n",
    "\n",
    "        points = []\n",
    "        colors = []\n",
    "\n",
    "        for v in range(y, y + h):\n",
    "            for u in range(x, x + w):\n",
    "                Z = depth_img[v, u] * depth_scale\n",
    "                if Z <= 0:\n",
    "                    continue\n",
    "\n",
    "                X = (u - self.cx) * Z / self.fx\n",
    "                Y = (v - self.cy) * Z / self.fy\n",
    "\n",
    "                points.append([X, Y, Z])\n",
    "                colors.append(rgb_img[v, u] / 255.0)\n",
    "\n",
    "        if len(points) == 0:\n",
    "            print(\"⚠️ Không có điểm nào trong ROI có depth hợp lệ.\")\n",
    "            return None\n",
    "\n",
    "        pc_roi = o3d.geometry.PointCloud()\n",
    "        pc_roi.points = o3d.utility.Vector3dVector(np.array(points))\n",
    "        pc_roi.colors = o3d.utility.Vector3dVector(np.array(colors))\n",
    "\n",
    "        return pc_roi"
   ]
  },
  {
   "cell_type": "markdown",
   "id": "58057761",
   "metadata": {},
   "source": [
    "Test thử với 1 ảnh"
   ]
  },
  {
   "cell_type": "code",
   "execution_count": 12,
   "id": "762926e8",
   "metadata": {},
   "outputs": [],
   "source": [
    "# import cv2\n",
    "# intrinsics = {\"fx\": 643.90087890625, \"fy\": 643.1365356445312, \"cx\": 650.2113037109375, \"cy\": 355.79559326171875}  \n",
    "# roi_bbox = (560, 150, 300, 330)\n",
    "\n",
    "# rgb = cv2.imread(\"Public data/Public data train/rgb/0002.png\")\n",
    "# depth = cv2.imread(\"Public data/Public data train/depth/0002.png\", cv2.IMREAD_UNCHANGED)\n",
    "\n",
    "# projector = ROIProjector3D(intrinsics)\n",
    "# pc = projector.project_roi_to_pointcloud(rgb, depth, roi_bbox)\n",
    "\n",
    "# if pc:\n",
    "#     o3d.io.write_point_cloud(\"output/roi_0002.ply\", pc)\n",
    "#     print(\"✅ ROI PLY saved: output/roi_0002.ply\")"
   ]
  },
  {
   "cell_type": "markdown",
   "id": "1a4d344e",
   "metadata": {},
   "source": [
    "Xử lý trên cả tập data"
   ]
  },
  {
   "cell_type": "code",
   "execution_count": 13,
   "id": "d316896b",
   "metadata": {},
   "outputs": [],
   "source": [
    "import os\n",
    "import cv2"
   ]
  },
  {
   "cell_type": "code",
   "execution_count": 14,
   "id": "ffd00f8e",
   "metadata": {},
   "outputs": [
    {
     "name": "stdout",
     "output_type": "stream",
     "text": [
      "Saved ROI point cloud to ./data/roi_pointclouds\\0000.ply\n",
      "Saved ROI point cloud to ./data/roi_pointclouds\\0001.ply\n",
      "Saved ROI point cloud to ./data/roi_pointclouds\\0002.ply\n",
      "Saved ROI point cloud to ./data/roi_pointclouds\\0003.ply\n",
      "Saved ROI point cloud to ./data/roi_pointclouds\\0004.ply\n",
      "Saved ROI point cloud to ./data/roi_pointclouds\\0005.ply\n",
      "Saved ROI point cloud to ./data/roi_pointclouds\\0006.ply\n",
      "Saved ROI point cloud to ./data/roi_pointclouds\\0007.ply\n",
      "Saved ROI point cloud to ./data/roi_pointclouds\\0008.ply\n",
      "Saved ROI point cloud to ./data/roi_pointclouds\\0009.ply\n",
      "Saved ROI point cloud to ./data/roi_pointclouds\\0010.ply\n",
      "Saved ROI point cloud to ./data/roi_pointclouds\\0011.ply\n",
      "Saved ROI point cloud to ./data/roi_pointclouds\\0012.ply\n",
      "Saved ROI point cloud to ./data/roi_pointclouds\\0013.ply\n",
      "Saved ROI point cloud to ./data/roi_pointclouds\\0014.ply\n",
      "Saved ROI point cloud to ./data/roi_pointclouds\\0015.ply\n",
      "Saved ROI point cloud to ./data/roi_pointclouds\\0016.ply\n",
      "Saved ROI point cloud to ./data/roi_pointclouds\\0017.ply\n",
      "Saved ROI point cloud to ./data/roi_pointclouds\\0018.ply\n",
      "Saved ROI point cloud to ./data/roi_pointclouds\\0019.ply\n",
      "Saved ROI point cloud to ./data/roi_pointclouds\\0020.ply\n",
      "Saved ROI point cloud to ./data/roi_pointclouds\\0021.ply\n",
      "Saved ROI point cloud to ./data/roi_pointclouds\\0022.ply\n",
      "Saved ROI point cloud to ./data/roi_pointclouds\\0023.ply\n",
      "Saved ROI point cloud to ./data/roi_pointclouds\\0024.ply\n",
      "Saved ROI point cloud to ./data/roi_pointclouds\\0025.ply\n",
      "Saved ROI point cloud to ./data/roi_pointclouds\\0026.ply\n",
      "Saved ROI point cloud to ./data/roi_pointclouds\\0027.ply\n",
      "Saved ROI point cloud to ./data/roi_pointclouds\\0028.ply\n",
      "Saved ROI point cloud to ./data/roi_pointclouds\\0029.ply\n",
      "Saved ROI point cloud to ./data/roi_pointclouds\\0030.ply\n",
      "Saved ROI point cloud to ./data/roi_pointclouds\\0031.ply\n",
      "Saved ROI point cloud to ./data/roi_pointclouds\\0032.ply\n",
      "Saved ROI point cloud to ./data/roi_pointclouds\\0033.ply\n",
      "Saved ROI point cloud to ./data/roi_pointclouds\\0034.ply\n",
      "Saved ROI point cloud to ./data/roi_pointclouds\\0035.ply\n",
      "Saved ROI point cloud to ./data/roi_pointclouds\\0036.ply\n",
      "Saved ROI point cloud to ./data/roi_pointclouds\\0037.ply\n",
      "Saved ROI point cloud to ./data/roi_pointclouds\\0038.ply\n",
      "Saved ROI point cloud to ./data/roi_pointclouds\\0039.ply\n",
      "Saved ROI point cloud to ./data/roi_pointclouds\\0040.ply\n",
      "Saved ROI point cloud to ./data/roi_pointclouds\\0041.ply\n",
      "Saved ROI point cloud to ./data/roi_pointclouds\\0042.ply\n",
      "Saved ROI point cloud to ./data/roi_pointclouds\\0043.ply\n",
      "Saved ROI point cloud to ./data/roi_pointclouds\\0044.ply\n",
      "Saved ROI point cloud to ./data/roi_pointclouds\\0045.ply\n",
      "Saved ROI point cloud to ./data/roi_pointclouds\\0046.ply\n",
      "Saved ROI point cloud to ./data/roi_pointclouds\\0047.ply\n",
      "Saved ROI point cloud to ./data/roi_pointclouds\\0048.ply\n",
      "Saved ROI point cloud to ./data/roi_pointclouds\\0049.ply\n"
     ]
    }
   ],
   "source": [
    "# =====================\n",
    "# Cấu hình\n",
    "# =====================\n",
    "rgb_folder = \"./Public_data_task_3/Public_data/Public_data_train/rgb\"\n",
    "depth_folder = \"./Public_data_task_3/Public_data/Public_data_train/depth\"\n",
    "output_folder = \"./data/roi_pointclouds\"\n",
    "os.makedirs(output_folder, exist_ok=True)\n",
    "\n",
    "intrinsics = {\n",
    "    \"fx\": 643.90087890625, \n",
    "    \"fy\": 643.1365356445312, \n",
    "    \"cx\": 650.2113037109375, \n",
    "    \"cy\": 355.79559326171875\n",
    "}\n",
    "\n",
    "roi_bbox = (560, 150, 300, 330)\n",
    "\n",
    "projector = ROIProjector3D(intrinsics)\n",
    "\n",
    "# =====================\n",
    "# Lặp qua tất cả cặp ảnh RGB + depth\n",
    "# =====================\n",
    "for filename in os.listdir(rgb_folder):\n",
    "    if filename.lower().endswith((\".png\", \".jpg\", \".jpeg\")):\n",
    "        rgb_path = os.path.join(rgb_folder, filename)\n",
    "        depth_path = os.path.join(depth_folder, filename)  # giả sử cùng tên\n",
    "\n",
    "        rgb_img = cv2.imread(rgb_path)\n",
    "        depth_img = cv2.imread(depth_path, cv2.IMREAD_UNCHANGED)\n",
    "\n",
    "        if rgb_img is None or depth_img is None:\n",
    "            print(f\"⚠️ Không tìm thấy RGB hoặc depth cho {filename}\")\n",
    "            continue\n",
    "\n",
    "        pc_roi = projector.project_roi_to_pointcloud(rgb_img, depth_img, roi_bbox)\n",
    "        if pc_roi is None:\n",
    "            continue\n",
    "\n",
    "        output_path = os.path.join(output_folder, filename.replace(\".jpg\", \".ply\").replace(\".png\", \".ply\"))\n",
    "        o3d.io.write_point_cloud(output_path, pc_roi, write_ascii=True)\n",
    "        print(f\"Saved ROI point cloud to {output_path}\")"
   ]
  },
  {
   "cell_type": "code",
   "execution_count": 15,
   "id": "2d70eb81",
   "metadata": {},
   "outputs": [
    {
     "name": "stdout",
     "output_type": "stream",
     "text": [
      "Num points: (96005, 3)\n"
     ]
    }
   ],
   "source": [
    "print(\"Num points:\", np.asarray(pc_roi.points).shape)"
   ]
  },
  {
   "cell_type": "code",
   "execution_count": 16,
   "id": "1a17f414",
   "metadata": {},
   "outputs": [
    {
     "name": "stdout",
     "output_type": "stream",
     "text": [
      "Min: [-0.16966259 -1.47226207  1.042     ]\n",
      "Max: [0.54154887 0.22988165 4.601     ]\n",
      "Mean: [ 0.10575028 -0.07295594  1.17897589]\n"
     ]
    }
   ],
   "source": [
    "pts = np.asarray(pc_roi.points)\n",
    "print(\"Min:\", pts.min(axis=0))\n",
    "print(\"Max:\", pts.max(axis=0))\n",
    "print(\"Mean:\", pts.mean(axis=0))\n"
   ]
  },
  {
   "cell_type": "code",
   "execution_count": 17,
   "id": "8896894f",
   "metadata": {},
   "outputs": [
    {
     "name": "stdout",
     "output_type": "stream",
     "text": [
      "[Open3D WARNING] Read PLY failed: unable to open file: your_output.ply\n",
      "PointCloud with 0 points.\n",
      "[Open3D WARNING] The number of points is 0 when creating axis-aligned bounding box.\n"
     ]
    }
   ],
   "source": [
    "import open3d as o3d\n",
    "pc = o3d.io.read_point_cloud(\"your_output.ply\")\n",
    "print(pc)\n",
    "o3d.visualization.draw_geometries([pc])\n"
   ]
  },
  {
   "cell_type": "code",
   "execution_count": 18,
   "id": "788dc42d",
   "metadata": {},
   "outputs": [
    {
     "data": {
      "text/plain": [
       "True"
      ]
     },
     "execution_count": 18,
     "metadata": {},
     "output_type": "execute_result"
    }
   ],
   "source": [
    "o3d.io.write_point_cloud(\"roi_ascii.ply\", pc_roi, write_ascii=True)\n"
   ]
  },
  {
   "cell_type": "code",
   "execution_count": null,
   "id": "15735498",
   "metadata": {},
   "outputs": [],
   "source": []
  }
 ],
 "metadata": {
  "kernelspec": {
   "display_name": "current_python",
   "language": "python",
   "name": "python3"
  },
  "language_info": {
   "codemirror_mode": {
    "name": "ipython",
    "version": 3
   },
   "file_extension": ".py",
   "mimetype": "text/x-python",
   "name": "python",
   "nbconvert_exporter": "python",
   "pygments_lexer": "ipython3",
   "version": "3.12.11"
  }
 },
 "nbformat": 4,
 "nbformat_minor": 5
}
